{
  "nbformat": 4,
  "nbformat_minor": 0,
  "metadata": {
    "colab": {
      "provenance": []
    },
    "kernelspec": {
      "name": "python3",
      "display_name": "Python 3"
    },
    "language_info": {
      "name": "python"
    }
  },
  "cells": [
    {
      "cell_type": "code",
      "execution_count": null,
      "metadata": {
        "id": "N2PNsKV40G2Y"
      },
      "outputs": [],
      "source": [
        "import numpy as np\n",
        "import pandas as pd \n",
        "import matplotlib.pyplot as plt\n"
      ]
    },
    {
      "cell_type": "code",
      "source": [
        "df=pd.read_csv(\"/content/drive/MyDrive/TCS.csv\")"
      ],
      "metadata": {
        "id": "jHnE1iGg0ogs"
      },
      "execution_count": null,
      "outputs": []
    },
    {
      "cell_type": "code",
      "source": [
        "df"
      ],
      "metadata": {
        "colab": {
          "base_uri": "https://localhost:8080/",
          "height": 424
        },
        "id": "QBnA-pdE0wHy",
        "outputId": "2a2db492-9cc3-4f8e-9b18-cd827717b802"
      },
      "execution_count": null,
      "outputs": [
        {
          "output_type": "execute_result",
          "data": {
            "text/plain": [
              "            Date         Open         High          Low        Close  \\\n",
              "0     2015-01-01  1283.500000  1283.500000  1270.500000  1272.775024   \n",
              "1     2015-01-02  1275.500000  1295.474976  1275.300049  1289.724976   \n",
              "2     2015-01-05  1290.500000  1299.949951  1262.324951  1270.125000   \n",
              "3     2015-01-06  1264.550049  1264.550049  1220.000000  1223.300049   \n",
              "4     2015-01-07  1235.000000  1239.574951  1203.724976  1208.849976   \n",
              "...          ...          ...          ...          ...          ...   \n",
              "1661  2021-09-24  3890.000000  3944.399902  3855.000000  3871.300049   \n",
              "1662  2021-09-27  3900.000000  3904.000000  3802.899902  3836.949951   \n",
              "1663  2021-09-28  3850.000000  3850.000000  3751.250000  3779.149902   \n",
              "1664  2021-09-29  3759.800049  3806.000000  3722.149902  3791.899902   \n",
              "1665  2021-09-30  3805.000000  3805.000000  3750.100098  3775.550049   \n",
              "\n",
              "        Adj Close     Volume  \n",
              "0     1114.909302   366830.0  \n",
              "1     1129.757202   925740.0  \n",
              "2     1112.587769  1754242.0  \n",
              "3     1071.570801  2423784.0  \n",
              "4     1058.912842  2636332.0  \n",
              "...           ...        ...  \n",
              "1661  3871.300049  2320754.0  \n",
              "1662  3836.949951  1673362.0  \n",
              "1663  3779.149902  2253075.0  \n",
              "1664  3791.899902  2489161.0  \n",
              "1665  3775.550049  2252412.0  \n",
              "\n",
              "[1666 rows x 7 columns]"
            ],
            "text/html": [
              "\n",
              "  <div id=\"df-a9de9e9f-7b6f-484d-898d-30f5db2a6e07\">\n",
              "    <div class=\"colab-df-container\">\n",
              "      <div>\n",
              "<style scoped>\n",
              "    .dataframe tbody tr th:only-of-type {\n",
              "        vertical-align: middle;\n",
              "    }\n",
              "\n",
              "    .dataframe tbody tr th {\n",
              "        vertical-align: top;\n",
              "    }\n",
              "\n",
              "    .dataframe thead th {\n",
              "        text-align: right;\n",
              "    }\n",
              "</style>\n",
              "<table border=\"1\" class=\"dataframe\">\n",
              "  <thead>\n",
              "    <tr style=\"text-align: right;\">\n",
              "      <th></th>\n",
              "      <th>Date</th>\n",
              "      <th>Open</th>\n",
              "      <th>High</th>\n",
              "      <th>Low</th>\n",
              "      <th>Close</th>\n",
              "      <th>Adj Close</th>\n",
              "      <th>Volume</th>\n",
              "    </tr>\n",
              "  </thead>\n",
              "  <tbody>\n",
              "    <tr>\n",
              "      <th>0</th>\n",
              "      <td>2015-01-01</td>\n",
              "      <td>1283.500000</td>\n",
              "      <td>1283.500000</td>\n",
              "      <td>1270.500000</td>\n",
              "      <td>1272.775024</td>\n",
              "      <td>1114.909302</td>\n",
              "      <td>366830.0</td>\n",
              "    </tr>\n",
              "    <tr>\n",
              "      <th>1</th>\n",
              "      <td>2015-01-02</td>\n",
              "      <td>1275.500000</td>\n",
              "      <td>1295.474976</td>\n",
              "      <td>1275.300049</td>\n",
              "      <td>1289.724976</td>\n",
              "      <td>1129.757202</td>\n",
              "      <td>925740.0</td>\n",
              "    </tr>\n",
              "    <tr>\n",
              "      <th>2</th>\n",
              "      <td>2015-01-05</td>\n",
              "      <td>1290.500000</td>\n",
              "      <td>1299.949951</td>\n",
              "      <td>1262.324951</td>\n",
              "      <td>1270.125000</td>\n",
              "      <td>1112.587769</td>\n",
              "      <td>1754242.0</td>\n",
              "    </tr>\n",
              "    <tr>\n",
              "      <th>3</th>\n",
              "      <td>2015-01-06</td>\n",
              "      <td>1264.550049</td>\n",
              "      <td>1264.550049</td>\n",
              "      <td>1220.000000</td>\n",
              "      <td>1223.300049</td>\n",
              "      <td>1071.570801</td>\n",
              "      <td>2423784.0</td>\n",
              "    </tr>\n",
              "    <tr>\n",
              "      <th>4</th>\n",
              "      <td>2015-01-07</td>\n",
              "      <td>1235.000000</td>\n",
              "      <td>1239.574951</td>\n",
              "      <td>1203.724976</td>\n",
              "      <td>1208.849976</td>\n",
              "      <td>1058.912842</td>\n",
              "      <td>2636332.0</td>\n",
              "    </tr>\n",
              "    <tr>\n",
              "      <th>...</th>\n",
              "      <td>...</td>\n",
              "      <td>...</td>\n",
              "      <td>...</td>\n",
              "      <td>...</td>\n",
              "      <td>...</td>\n",
              "      <td>...</td>\n",
              "      <td>...</td>\n",
              "    </tr>\n",
              "    <tr>\n",
              "      <th>1661</th>\n",
              "      <td>2021-09-24</td>\n",
              "      <td>3890.000000</td>\n",
              "      <td>3944.399902</td>\n",
              "      <td>3855.000000</td>\n",
              "      <td>3871.300049</td>\n",
              "      <td>3871.300049</td>\n",
              "      <td>2320754.0</td>\n",
              "    </tr>\n",
              "    <tr>\n",
              "      <th>1662</th>\n",
              "      <td>2021-09-27</td>\n",
              "      <td>3900.000000</td>\n",
              "      <td>3904.000000</td>\n",
              "      <td>3802.899902</td>\n",
              "      <td>3836.949951</td>\n",
              "      <td>3836.949951</td>\n",
              "      <td>1673362.0</td>\n",
              "    </tr>\n",
              "    <tr>\n",
              "      <th>1663</th>\n",
              "      <td>2021-09-28</td>\n",
              "      <td>3850.000000</td>\n",
              "      <td>3850.000000</td>\n",
              "      <td>3751.250000</td>\n",
              "      <td>3779.149902</td>\n",
              "      <td>3779.149902</td>\n",
              "      <td>2253075.0</td>\n",
              "    </tr>\n",
              "    <tr>\n",
              "      <th>1664</th>\n",
              "      <td>2021-09-29</td>\n",
              "      <td>3759.800049</td>\n",
              "      <td>3806.000000</td>\n",
              "      <td>3722.149902</td>\n",
              "      <td>3791.899902</td>\n",
              "      <td>3791.899902</td>\n",
              "      <td>2489161.0</td>\n",
              "    </tr>\n",
              "    <tr>\n",
              "      <th>1665</th>\n",
              "      <td>2021-09-30</td>\n",
              "      <td>3805.000000</td>\n",
              "      <td>3805.000000</td>\n",
              "      <td>3750.100098</td>\n",
              "      <td>3775.550049</td>\n",
              "      <td>3775.550049</td>\n",
              "      <td>2252412.0</td>\n",
              "    </tr>\n",
              "  </tbody>\n",
              "</table>\n",
              "<p>1666 rows × 7 columns</p>\n",
              "</div>\n",
              "      <button class=\"colab-df-convert\" onclick=\"convertToInteractive('df-a9de9e9f-7b6f-484d-898d-30f5db2a6e07')\"\n",
              "              title=\"Convert this dataframe to an interactive table.\"\n",
              "              style=\"display:none;\">\n",
              "        \n",
              "  <svg xmlns=\"http://www.w3.org/2000/svg\" height=\"24px\"viewBox=\"0 0 24 24\"\n",
              "       width=\"24px\">\n",
              "    <path d=\"M0 0h24v24H0V0z\" fill=\"none\"/>\n",
              "    <path d=\"M18.56 5.44l.94 2.06.94-2.06 2.06-.94-2.06-.94-.94-2.06-.94 2.06-2.06.94zm-11 1L8.5 8.5l.94-2.06 2.06-.94-2.06-.94L8.5 2.5l-.94 2.06-2.06.94zm10 10l.94 2.06.94-2.06 2.06-.94-2.06-.94-.94-2.06-.94 2.06-2.06.94z\"/><path d=\"M17.41 7.96l-1.37-1.37c-.4-.4-.92-.59-1.43-.59-.52 0-1.04.2-1.43.59L10.3 9.45l-7.72 7.72c-.78.78-.78 2.05 0 2.83L4 21.41c.39.39.9.59 1.41.59.51 0 1.02-.2 1.41-.59l7.78-7.78 2.81-2.81c.8-.78.8-2.07 0-2.86zM5.41 20L4 18.59l7.72-7.72 1.47 1.35L5.41 20z\"/>\n",
              "  </svg>\n",
              "      </button>\n",
              "      \n",
              "  <style>\n",
              "    .colab-df-container {\n",
              "      display:flex;\n",
              "      flex-wrap:wrap;\n",
              "      gap: 12px;\n",
              "    }\n",
              "\n",
              "    .colab-df-convert {\n",
              "      background-color: #E8F0FE;\n",
              "      border: none;\n",
              "      border-radius: 50%;\n",
              "      cursor: pointer;\n",
              "      display: none;\n",
              "      fill: #1967D2;\n",
              "      height: 32px;\n",
              "      padding: 0 0 0 0;\n",
              "      width: 32px;\n",
              "    }\n",
              "\n",
              "    .colab-df-convert:hover {\n",
              "      background-color: #E2EBFA;\n",
              "      box-shadow: 0px 1px 2px rgba(60, 64, 67, 0.3), 0px 1px 3px 1px rgba(60, 64, 67, 0.15);\n",
              "      fill: #174EA6;\n",
              "    }\n",
              "\n",
              "    [theme=dark] .colab-df-convert {\n",
              "      background-color: #3B4455;\n",
              "      fill: #D2E3FC;\n",
              "    }\n",
              "\n",
              "    [theme=dark] .colab-df-convert:hover {\n",
              "      background-color: #434B5C;\n",
              "      box-shadow: 0px 1px 3px 1px rgba(0, 0, 0, 0.15);\n",
              "      filter: drop-shadow(0px 1px 2px rgba(0, 0, 0, 0.3));\n",
              "      fill: #FFFFFF;\n",
              "    }\n",
              "  </style>\n",
              "\n",
              "      <script>\n",
              "        const buttonEl =\n",
              "          document.querySelector('#df-a9de9e9f-7b6f-484d-898d-30f5db2a6e07 button.colab-df-convert');\n",
              "        buttonEl.style.display =\n",
              "          google.colab.kernel.accessAllowed ? 'block' : 'none';\n",
              "\n",
              "        async function convertToInteractive(key) {\n",
              "          const element = document.querySelector('#df-a9de9e9f-7b6f-484d-898d-30f5db2a6e07');\n",
              "          const dataTable =\n",
              "            await google.colab.kernel.invokeFunction('convertToInteractive',\n",
              "                                                     [key], {});\n",
              "          if (!dataTable) return;\n",
              "\n",
              "          const docLinkHtml = 'Like what you see? Visit the ' +\n",
              "            '<a target=\"_blank\" href=https://colab.research.google.com/notebooks/data_table.ipynb>data table notebook</a>'\n",
              "            + ' to learn more about interactive tables.';\n",
              "          element.innerHTML = '';\n",
              "          dataTable['output_type'] = 'display_data';\n",
              "          await google.colab.output.renderOutput(dataTable, element);\n",
              "          const docLink = document.createElement('div');\n",
              "          docLink.innerHTML = docLinkHtml;\n",
              "          element.appendChild(docLink);\n",
              "        }\n",
              "      </script>\n",
              "    </div>\n",
              "  </div>\n",
              "  "
            ]
          },
          "metadata": {},
          "execution_count": 107
        }
      ]
    },
    {
      "cell_type": "code",
      "source": [
        "#df=df.drop(df[\"Open\",\"High\",\"Low\",\"Adj Close\",\"Volume\"],axis=\"1\")\n",
        "df=df.drop([\"Open\",\"High\",\"Low\",\"Adj Close\",\"Volume\"],axis=\"columns\")\n"
      ],
      "metadata": {
        "id": "hSRqq1nk2zgV"
      },
      "execution_count": null,
      "outputs": []
    },
    {
      "cell_type": "code",
      "source": [],
      "metadata": {
        "id": "Uc9ua1dv0wqO"
      },
      "execution_count": null,
      "outputs": []
    },
    {
      "cell_type": "code",
      "source": [
        "from sklearn.preprocessing import LabelEncoder\n",
        "le=LabelEncoder()\n",
        "df[\"Date_encoded\"]=le.fit_transform(df[\"Date\"])\n"
      ],
      "metadata": {
        "id": "7sDq-lXyA-XS"
      },
      "execution_count": null,
      "outputs": []
    },
    {
      "cell_type": "code",
      "source": [
        "plt.xlabel(\"Date\")\n",
        "plt.ylabel(\"Price\")\n",
        "plt.plot(df[\"Date\"],df[\"Close\"])\n",
        "x = np.array(df['Date_encoded'])\n",
        "#x.astype(int)\n",
        "y = np.array(df['Close'])\n",
        "y.astype(int)\n",
        "#print(type(x))\n",
        "#print(type(y))\n",
        "m, b = np.polyfit(x, y, 1)\n",
        "plt.plot(x, m*x + b)"
      ],
      "metadata": {
        "colab": {
          "base_uri": "https://localhost:8080/",
          "height": 296
        },
        "id": "mG7zHB7-qYOO",
        "outputId": "80472ae8-2825-4a40-c7cb-773ef54650fe"
      },
      "execution_count": null,
      "outputs": [
        {
          "output_type": "execute_result",
          "data": {
            "text/plain": [
              "[<matplotlib.lines.Line2D at 0x7f2dd1681850>]"
            ]
          },
          "metadata": {},
          "execution_count": 110
        },
        {
          "output_type": "display_data",
          "data": {
            "text/plain": [
              "<Figure size 432x288 with 1 Axes>"
            ],
            "image/png": "[encoded data removed]"
          },
          "metadata": {
            "needs_background": "light"
          }
        }
      ]
    },
    {
      "cell_type": "code",
      "source": [
        "from sklearn.linear_model import LinearRegression\n",
        "linear=LinearRegression()\n",
        "X=df[\"Date_encoded\"]\n",
        "X=np.array(df[\"Date_encoded\"])\n",
        "X=X.reshape(-1,1)\n",
        "Y=df[\"Close\"]\n"
      ],
      "metadata": {
        "id": "1lswp-4W2lcG"
      },
      "execution_count": null,
      "outputs": []
    },
    {
      "cell_type": "code",
      "source": [
        "type(X)"
      ],
      "metadata": {
        "colab": {
          "base_uri": "https://localhost:8080/"
        },
        "id": "e0hd-uasHasW",
        "outputId": "26835b25-d8a8-4b81-edec-8939b4aa279d"
      },
      "execution_count": null,
      "outputs": [
        {
          "output_type": "execute_result",
          "data": {
            "text/plain": [
              "numpy.ndarray"
            ]
          },
          "metadata": {},
          "execution_count": 112
        }
      ]
    },
    {
      "cell_type": "code",
      "source": [
        "from sklearn.model_selection import train_test_split\n",
        "X_train,X_test,Y_test,Y_train=train_test_split(X,Y,test_size=0.3)"
      ],
      "metadata": {
        "id": "oMbLmlHx5ttZ"
      },
      "execution_count": null,
      "outputs": []
    },
    {
      "cell_type": "code",
      "source": [
        "df[\"Close\"].isnull().sum()"
      ],
      "metadata": {
        "colab": {
          "base_uri": "https://localhost:8080/"
        },
        "id": "Ki--06a4CWnQ",
        "outputId": "04ea59ad-52d8-413b-a567-aba15e1047c5"
      },
      "execution_count": null,
      "outputs": [
        {
          "output_type": "execute_result",
          "data": {
            "text/plain": [
              "3"
            ]
          },
          "metadata": {},
          "execution_count": 114
        }
      ]
    },
    {
      "cell_type": "code",
      "source": [
        "df[\"Close\"].mean()"
      ],
      "metadata": {
        "colab": {
          "base_uri": "https://localhost:8080/"
        },
        "id": "Muo54WXF3ezC",
        "outputId": "c4aa839f-d469-4f4b-9ffe-a9ca1b0188bd"
      },
      "execution_count": null,
      "outputs": [
        {
          "output_type": "execute_result",
          "data": {
            "text/plain": [
              "1825.2263996867096"
            ]
          },
          "metadata": {},
          "execution_count": 115
        }
      ]
    },
    {
      "cell_type": "code",
      "source": [
        "# Apne target function mai null values aare ; So null values ko mean se agar fill kiya toh model ki accuracy kam hojaegai ,\n",
        "#  so nul values ke aage and picche ke values utha , unka mean le and null values mai fill kar \n",
        "# This is the function for the same\n",
        "index=-1\n",
        "for i in df[\"Close\"]:\n",
        "  index+=1\n",
        "  if(i is None):\n",
        "    avg=(df[\"Close\"][index-1]+df[\"Close\"][index+1])/2\n",
        "    df[\"Close\"][index]=avg\n",
        "\n",
        "\n",
        "df[\"Close\"].isnull().sum()"
      ],
      "metadata": {
        "colab": {
          "base_uri": "https://localhost:8080/"
        },
        "id": "nsnUSQW0Dweh",
        "outputId": "a26b8a04-7120-4194-f22c-a9eb45a56155"
      },
      "execution_count": null,
      "outputs": [
        {
          "output_type": "execute_result",
          "data": {
            "text/plain": [
              "3"
            ]
          },
          "metadata": {},
          "execution_count": 116
        }
      ]
    },
    {
      "cell_type": "code",
      "source": [
        "type(df[\"Date\"][0])"
      ],
      "metadata": {
        "colab": {
          "base_uri": "https://localhost:8080/"
        },
        "id": "8t78PR1Z-9iK",
        "outputId": "4da24d45-a36a-4b76-8c65-78efb6671f69"
      },
      "execution_count": null,
      "outputs": [
        {
          "output_type": "execute_result",
          "data": {
            "text/plain": [
              "str"
            ]
          },
          "metadata": {},
          "execution_count": 117
        }
      ]
    },
    {
      "cell_type": "code",
      "source": [
        "# function to get unique values\n",
        "def unique(list1):\n",
        "    x = np.array(list1)\n",
        "    print(np.unique(x))"
      ],
      "metadata": {
        "id": "SS0Clk6m6y7F"
      },
      "execution_count": null,
      "outputs": []
    },
    {
      "cell_type": "code",
      "source": [
        "def isfloat(num):\n",
        "    try:\n",
        "        float(num)\n",
        "        return True\n",
        "    except ValueError:\n",
        "        return False"
      ],
      "metadata": {
        "id": "eKC-RlXw8hM6"
      },
      "execution_count": null,
      "outputs": []
    },
    {
      "cell_type": "code",
      "source": [
        "# Finding the index where nulll value lies\n",
        "\n",
        "find=[]\n",
        "find=df[\"Close\"]\n",
        "# find.index(None)\n",
        "#None in find\n",
        "#print(find)\n",
        "type(list(find))\n",
        "find = list(find)\n",
        "#print(find)\n",
        "count = 0\n",
        "#NULL in find\n",
        "for tryv in find:\n",
        "  if(isfloat(tryv)):\n",
        "    count = count + 1\n",
        "    pass\n",
        "  else:\n",
        "    print(tryv)\n",
        "\n",
        "#print(count)\n",
        "#print(len(find\n",
        "\n",
        "if 'nan' in find:\n",
        "  print(\"hi\")\n"
      ],
      "metadata": {
        "id": "Nl6C7JEx4U99"
      },
      "execution_count": null,
      "outputs": []
    },
    {
      "cell_type": "markdown",
      "source": [
        "Remember this line to get Null values from the given dataframe"
      ],
      "metadata": {
        "id": "hL94JHgSqx43"
      }
    },
    {
      "cell_type": "code",
      "source": [
        "type(df[\"Close\"].isnull())"
      ],
      "metadata": {
        "colab": {
          "base_uri": "https://localhost:8080/"
        },
        "id": "FfTSGHnV5-4s",
        "outputId": "21ce5c50-b35f-4a49-aef0-f836e707cf4c"
      },
      "execution_count": null,
      "outputs": [
        {
          "output_type": "execute_result",
          "data": {
            "text/plain": [
              "pandas.core.series.Series"
            ]
          },
          "metadata": {},
          "execution_count": 164
        }
      ]
    },
    {
      "cell_type": "code",
      "source": [
        "df[df['Close'].isnull()].index"
      ],
      "metadata": {
        "colab": {
          "base_uri": "https://localhost:8080/"
        },
        "id": "rhtbxY8U-RV8",
        "outputId": "14cce12b-1f66-4589-d4b6-3f9ac95d9c40"
      },
      "execution_count": null,
      "outputs": [
        {
          "output_type": "execute_result",
          "data": {
            "text/plain": [
              "Int64Index([40, 1185, 1449], dtype='int64')"
            ]
          },
          "metadata": {},
          "execution_count": 121
        }
      ]
    },
    {
      "cell_type": "code",
      "source": [
        "temp_nan_column = df[df['Close'].isnull()].index.tolist()\n",
        "temp_nan_column"
      ],
      "metadata": {
        "id": "YibfMfpn8Zqq",
        "colab": {
          "base_uri": "https://localhost:8080/"
        },
        "outputId": "6c6d4970-f21d-42a7-ce4c-bd5bb8468fa2"
      },
      "execution_count": null,
      "outputs": [
        {
          "output_type": "execute_result",
          "data": {
            "text/plain": [
              "[40, 1185, 1449]"
            ]
          },
          "metadata": {},
          "execution_count": 122
        }
      ]
    },
    {
      "cell_type": "code",
      "source": [
        "print(find[1185])\n",
        "print(find[40])\n",
        "print(find[1449])"
      ],
      "metadata": {
        "colab": {
          "base_uri": "https://localhost:8080/"
        },
        "id": "UXvdoKUU9-Ni",
        "outputId": "5dee97a8-bf30-4d30-e34f-02d3986cac94"
      },
      "execution_count": null,
      "outputs": [
        {
          "output_type": "stream",
          "name": "stdout",
          "text": [
            "nan\n",
            "nan\n",
            "nan\n"
          ]
        }
      ]
    },
    {
      "cell_type": "code",
      "source": [
        "for i in temp_nan_column:\n",
        "  avg=(find[i-1]+find[i+1])/2\n",
        "  print(avg)\n"
      ],
      "metadata": {
        "colab": {
          "base_uri": "https://localhost:8080/"
        },
        "id": "Cl2A464x-Ul3",
        "outputId": "b3289a38-2b9b-46bd-b661-ddc38453fd5a"
      },
      "execution_count": null,
      "outputs": [
        {
          "output_type": "stream",
          "name": "stdout",
          "text": [
            "1332.9375\n",
            "2159.9000244999997\n",
            "2661.4500735\n"
          ]
        }
      ]
    },
    {
      "cell_type": "code",
      "source": [
        "for i in range(len(temp_nan_column)):\n",
        "  avg = (find[temp_nan_column[i] - 1]  ) + (find[temp_nan_column[i] + 1])\n",
        "  avg = avg/2\n",
        "  print(avg)"
      ],
      "metadata": {
        "id": "Qpo0hKwJ-x--",
        "colab": {
          "base_uri": "https://localhost:8080/"
        },
        "outputId": "60b431ef-9bbf-4ed3-cd78-56928e05ee01"
      },
      "execution_count": null,
      "outputs": [
        {
          "output_type": "stream",
          "name": "stdout",
          "text": [
            "1332.9375\n",
            "2159.9000244999997\n",
            "2661.4500735\n"
          ]
        }
      ]
    },
    {
      "cell_type": "code",
      "source": [
        "df.shape"
      ],
      "metadata": {
        "colab": {
          "base_uri": "https://localhost:8080/"
        },
        "id": "ropVsB_cCFQU",
        "outputId": "ae149237-fe55-4882-ab0f-1e307442f33f"
      },
      "execution_count": null,
      "outputs": [
        {
          "output_type": "execute_result",
          "data": {
            "text/plain": [
              "(1666, 3)"
            ]
          },
          "metadata": {},
          "execution_count": 126
        }
      ]
    },
    {
      "cell_type": "code",
      "source": [
        "hemang = df.copy(deep=True)"
      ],
      "metadata": {
        "id": "oO4BKqBVCHQQ"
      },
      "execution_count": null,
      "outputs": []
    },
    {
      "cell_type": "code",
      "source": [
        "hemang.shape"
      ],
      "metadata": {
        "colab": {
          "base_uri": "https://localhost:8080/"
        },
        "id": "WfN8PX9eCgk2",
        "outputId": "541668b4-ff67-40b5-ab58-c5db64a6b60a"
      },
      "execution_count": null,
      "outputs": [
        {
          "output_type": "execute_result",
          "data": {
            "text/plain": [
              "(1666, 3)"
            ]
          },
          "metadata": {},
          "execution_count": 128
        }
      ]
    },
    {
      "cell_type": "code",
      "source": [
        "hemang_find = find\n",
        "for i in temp_nan_column:\n",
        "  avg=(find[i-1]+find[i+1])/2\n",
        "  #print(avg)\n",
        "  find[i] = avg\n",
        "  hemang_find[i] = df[\"Close\"].mean()\n",
        "#unique(find)\n",
        "#unique(hemang_find)"
      ],
      "metadata": {
        "id": "wnC2VnTJCkm8"
      },
      "execution_count": null,
      "outputs": []
    },
    {
      "cell_type": "code",
      "source": [
        "df['Close'] = find\n",
        "hemang['Close'] = hemang_find"
      ],
      "metadata": {
        "id": "azyDPvj4DIa3"
      },
      "execution_count": null,
      "outputs": []
    },
    {
      "cell_type": "code",
      "source": [
        "print(df.shape)\n",
        "print(hemang.shape)"
      ],
      "metadata": {
        "colab": {
          "base_uri": "https://localhost:8080/"
        },
        "id": "0K_L1C5jDbMJ",
        "outputId": "91bf47e1-afc9-43e1-c054-c5fcbe6c1c4e"
      },
      "execution_count": null,
      "outputs": [
        {
          "output_type": "stream",
          "name": "stdout",
          "text": [
            "(1666, 3)\n",
            "(1666, 3)\n"
          ]
        }
      ]
    },
    {
      "cell_type": "code",
      "source": [
        "from sklearn.linear_model import LinearRegression"
      ],
      "metadata": {
        "id": "XAV1BeDhDlSB"
      },
      "execution_count": null,
      "outputs": []
    },
    {
      "cell_type": "code",
      "source": [],
      "metadata": {
        "id": "HOzwZiY0GcJl"
      },
      "execution_count": null,
      "outputs": []
    },
    {
      "cell_type": "code",
      "source": [
        "df.head()"
      ],
      "metadata": {
        "colab": {
          "base_uri": "https://localhost:8080/",
          "height": 206
        },
        "id": "iDAnEtVGEUe-",
        "outputId": "328bd637-249b-4ffa-ed25-477e7d051fae"
      },
      "execution_count": null,
      "outputs": [
        {
          "output_type": "execute_result",
          "data": {
            "text/plain": [
              "         Date        Close  Date_encoded\n",
              "0  2015-01-01  1272.775024             0\n",
              "1  2015-01-02  1289.724976             1\n",
              "2  2015-01-05  1270.125000             2\n",
              "3  2015-01-06  1223.300049             3\n",
              "4  2015-01-07  1208.849976             4"
            ],
            "text/html": [
              "\n",
              "  <div id=\"df-413a7af7-7307-4ba1-b92e-17be46aa1b55\">\n",
              "    <div class=\"colab-df-container\">\n",
              "      <div>\n",
              "<style scoped>\n",
              "    .dataframe tbody tr th:only-of-type {\n",
              "        vertical-align: middle;\n",
              "    }\n",
              "\n",
              "    .dataframe tbody tr th {\n",
              "        vertical-align: top;\n",
              "    }\n",
              "\n",
              "    .dataframe thead th {\n",
              "        text-align: right;\n",
              "    }\n",
              "</style>\n",
              "<table border=\"1\" class=\"dataframe\">\n",
              "  <thead>\n",
              "    <tr style=\"text-align: right;\">\n",
              "      <th></th>\n",
              "      <th>Date</th>\n",
              "      <th>Close</th>\n",
              "      <th>Date_encoded</th>\n",
              "    </tr>\n",
              "  </thead>\n",
              "  <tbody>\n",
              "    <tr>\n",
              "      <th>0</th>\n",
              "      <td>2015-01-01</td>\n",
              "      <td>1272.775024</td>\n",
              "      <td>0</td>\n",
              "    </tr>\n",
              "    <tr>\n",
              "      <th>1</th>\n",
              "      <td>2015-01-02</td>\n",
              "      <td>1289.724976</td>\n",
              "      <td>1</td>\n",
              "    </tr>\n",
              "    <tr>\n",
              "      <th>2</th>\n",
              "      <td>2015-01-05</td>\n",
              "      <td>1270.125000</td>\n",
              "      <td>2</td>\n",
              "    </tr>\n",
              "    <tr>\n",
              "      <th>3</th>\n",
              "      <td>2015-01-06</td>\n",
              "      <td>1223.300049</td>\n",
              "      <td>3</td>\n",
              "    </tr>\n",
              "    <tr>\n",
              "      <th>4</th>\n",
              "      <td>2015-01-07</td>\n",
              "      <td>1208.849976</td>\n",
              "      <td>4</td>\n",
              "    </tr>\n",
              "  </tbody>\n",
              "</table>\n",
              "</div>\n",
              "      <button class=\"colab-df-convert\" onclick=\"convertToInteractive('df-413a7af7-7307-4ba1-b92e-17be46aa1b55')\"\n",
              "              title=\"Convert this dataframe to an interactive table.\"\n",
              "              style=\"display:none;\">\n",
              "        \n",
              "  <svg xmlns=\"http://www.w3.org/2000/svg\" height=\"24px\"viewBox=\"0 0 24 24\"\n",
              "       width=\"24px\">\n",
              "    <path d=\"M0 0h24v24H0V0z\" fill=\"none\"/>\n",
              "    <path d=\"M18.56 5.44l.94 2.06.94-2.06 2.06-.94-2.06-.94-.94-2.06-.94 2.06-2.06.94zm-11 1L8.5 8.5l.94-2.06 2.06-.94-2.06-.94L8.5 2.5l-.94 2.06-2.06.94zm10 10l.94 2.06.94-2.06 2.06-.94-2.06-.94-.94-2.06-.94 2.06-2.06.94z\"/><path d=\"M17.41 7.96l-1.37-1.37c-.4-.4-.92-.59-1.43-.59-.52 0-1.04.2-1.43.59L10.3 9.45l-7.72 7.72c-.78.78-.78 2.05 0 2.83L4 21.41c.39.39.9.59 1.41.59.51 0 1.02-.2 1.41-.59l7.78-7.78 2.81-2.81c.8-.78.8-2.07 0-2.86zM5.41 20L4 18.59l7.72-7.72 1.47 1.35L5.41 20z\"/>\n",
              "  </svg>\n",
              "      </button>\n",
              "      \n",
              "  <style>\n",
              "    .colab-df-container {\n",
              "      display:flex;\n",
              "      flex-wrap:wrap;\n",
              "      gap: 12px;\n",
              "    }\n",
              "\n",
              "    .colab-df-convert {\n",
              "      background-color: #E8F0FE;\n",
              "      border: none;\n",
              "      border-radius: 50%;\n",
              "      cursor: pointer;\n",
              "      display: none;\n",
              "      fill: #1967D2;\n",
              "      height: 32px;\n",
              "      padding: 0 0 0 0;\n",
              "      width: 32px;\n",
              "    }\n",
              "\n",
              "    .colab-df-convert:hover {\n",
              "      background-color: #E2EBFA;\n",
              "      box-shadow: 0px 1px 2px rgba(60, 64, 67, 0.3), 0px 1px 3px 1px rgba(60, 64, 67, 0.15);\n",
              "      fill: #174EA6;\n",
              "    }\n",
              "\n",
              "    [theme=dark] .colab-df-convert {\n",
              "      background-color: #3B4455;\n",
              "      fill: #D2E3FC;\n",
              "    }\n",
              "\n",
              "    [theme=dark] .colab-df-convert:hover {\n",
              "      background-color: #434B5C;\n",
              "      box-shadow: 0px 1px 3px 1px rgba(0, 0, 0, 0.15);\n",
              "      filter: drop-shadow(0px 1px 2px rgba(0, 0, 0, 0.3));\n",
              "      fill: #FFFFFF;\n",
              "    }\n",
              "  </style>\n",
              "\n",
              "      <script>\n",
              "        const buttonEl =\n",
              "          document.querySelector('#df-413a7af7-7307-4ba1-b92e-17be46aa1b55 button.colab-df-convert');\n",
              "        buttonEl.style.display =\n",
              "          google.colab.kernel.accessAllowed ? 'block' : 'none';\n",
              "\n",
              "        async function convertToInteractive(key) {\n",
              "          const element = document.querySelector('#df-413a7af7-7307-4ba1-b92e-17be46aa1b55');\n",
              "          const dataTable =\n",
              "            await google.colab.kernel.invokeFunction('convertToInteractive',\n",
              "                                                     [key], {});\n",
              "          if (!dataTable) return;\n",
              "\n",
              "          const docLinkHtml = 'Like what you see? Visit the ' +\n",
              "            '<a target=\"_blank\" href=https://colab.research.google.com/notebooks/data_table.ipynb>data table notebook</a>'\n",
              "            + ' to learn more about interactive tables.';\n",
              "          element.innerHTML = '';\n",
              "          dataTable['output_type'] = 'display_data';\n",
              "          await google.colab.output.renderOutput(dataTable, element);\n",
              "          const docLink = document.createElement('div');\n",
              "          docLink.innerHTML = docLinkHtml;\n",
              "          element.appendChild(docLink);\n",
              "        }\n",
              "      </script>\n",
              "    </div>\n",
              "  </div>\n",
              "  "
            ]
          },
          "metadata": {},
          "execution_count": 133
        }
      ]
    },
    {
      "cell_type": "code",
      "source": [
        "df"
      ],
      "metadata": {
        "colab": {
          "base_uri": "https://localhost:8080/",
          "height": 167
        },
        "id": "sdAjD_MPzuF7",
        "outputId": "4b2bb180-c3a6-4279-dff1-7d80b77f29a1"
      },
      "execution_count": null,
      "outputs": [
        {
          "output_type": "error",
          "ename": "TypeError",
          "evalue": "ignored",
          "traceback": [
            "\u001b[0;31m---------------------------------------------------------------------------\u001b[0m",
            "\u001b[0;31mTypeError\u001b[0m                                 Traceback (most recent call last)",
            "\u001b[0;32m<ipython-input-151-8c9a83d238b5>\u001b[0m in \u001b[0;36m<module>\u001b[0;34m()\u001b[0m\n\u001b[0;32m----> 1\u001b[0;31m \u001b[0mdf\u001b[0m\u001b[0;34m.\u001b[0m\u001b[0mClose\u001b[0m\u001b[0;34m.\u001b[0m\u001b[0mshape\u001b[0m\u001b[0;34m(\u001b[0m\u001b[0;34m)\u001b[0m\u001b[0;34m\u001b[0m\u001b[0;34m\u001b[0m\u001b[0m\n\u001b[0m",
            "\u001b[0;31mTypeError\u001b[0m: 'tuple' object is not callable"
          ]
        }
      ]
    },
    {
      "cell_type": "code",
      "source": [
        "X_train,X_test,Y_test,Y_train=train_test_split(df['Date_encoded'],df['Close'],test_size=0.3)\n"
      ],
      "metadata": {
        "id": "ABdroBaRFz3R"
      },
      "execution_count": null,
      "outputs": []
    },
    {
      "cell_type": "code",
      "source": [
        "len(X_train)\n",
        "len(Y_train)"
      ],
      "metadata": {
        "colab": {
          "base_uri": "https://localhost:8080/"
        },
        "id": "WJ6-QowlIHRU",
        "outputId": "1633f1db-732d-42b9-c8a7-c52fa9571211"
      },
      "execution_count": null,
      "outputs": [
        {
          "output_type": "execute_result",
          "data": {
            "text/plain": [
              "500"
            ]
          },
          "metadata": {},
          "execution_count": 155
        }
      ]
    },
    {
      "cell_type": "code",
      "source": [
        "len(Y_test)"
      ],
      "metadata": {
        "colab": {
          "base_uri": "https://localhost:8080/"
        },
        "id": "qsYp8IhrIKTa",
        "outputId": "1ea7e322-f3c1-41bf-da14-18865623fd75"
      },
      "execution_count": null,
      "outputs": [
        {
          "output_type": "execute_result",
          "data": {
            "text/plain": [
              "1166"
            ]
          },
          "metadata": {},
          "execution_count": 136
        }
      ]
    },
    {
      "cell_type": "code",
      "source": [],
      "metadata": {
        "id": "KgMMV2R7IcSo",
        "colab": {
          "base_uri": "https://localhost:8080/"
        },
        "outputId": "2802b3a7-78e7-4301-bef5-d89a90227655"
      },
      "execution_count": null,
      "outputs": [
        {
          "output_type": "execute_result",
          "data": {
            "text/plain": [
              "1033    1033\n",
              "97        97\n",
              "238      238\n",
              "127      127\n",
              "1249    1249\n",
              "        ... \n",
              "993      993\n",
              "828      828\n",
              "1053    1053\n",
              "381      381\n",
              "1458    1458\n",
              "Name: Date_encoded, Length: 1166, dtype: int64"
            ]
          },
          "metadata": {},
          "execution_count": 145
        }
      ]
    },
    {
      "cell_type": "code",
      "source": [
        "print(len(X_test))\n",
        "print(len(Y_test))\n",
        "print(len(X_train))\n",
        "print(len(Y_train))"
      ],
      "metadata": {
        "colab": {
          "base_uri": "https://localhost:8080/"
        },
        "id": "qzKJYjGYI37J",
        "outputId": "1e05b9e1-7797-478c-fa38-0d7df204a9aa"
      },
      "execution_count": null,
      "outputs": [
        {
          "output_type": "stream",
          "name": "stdout",
          "text": [
            "500\n",
            "1166\n",
            "1166\n",
            "500\n"
          ]
        }
      ]
    },
    {
      "cell_type": "code",
      "source": [
        "len(X_train)\n",
        "len(X_test)"
      ],
      "metadata": {
        "colab": {
          "base_uri": "https://localhost:8080/"
        },
        "id": "SG0T7bwKIocx",
        "outputId": "37225f04-280d-4577-aaa4-0edeff971c88"
      },
      "execution_count": null,
      "outputs": [
        {
          "output_type": "execute_result",
          "data": {
            "text/plain": [
              "500"
            ]
          },
          "metadata": {},
          "execution_count": 149
        }
      ]
    },
    {
      "cell_type": "code",
      "source": [
        "df.shape"
      ],
      "metadata": {
        "colab": {
          "base_uri": "https://localhost:8080/"
        },
        "id": "AloYWodiIRKe",
        "outputId": "9865b60e-d2c3-4d27-c0ae-432557058fd3"
      },
      "execution_count": null,
      "outputs": [
        {
          "output_type": "execute_result",
          "data": {
            "text/plain": [
              "(1666, 3)"
            ]
          },
          "metadata": {},
          "execution_count": 140
        }
      ]
    },
    {
      "cell_type": "code",
      "source": [
        "type(X_train)"
      ],
      "metadata": {
        "colab": {
          "base_uri": "https://localhost:8080/"
        },
        "id": "03RmRMZZHolx",
        "outputId": "fe26533a-00ed-4329-9b45-6c8d8ed45dce"
      },
      "execution_count": null,
      "outputs": [
        {
          "output_type": "execute_result",
          "data": {
            "text/plain": [
              "pandas.core.series.Series"
            ]
          },
          "metadata": {},
          "execution_count": 141
        }
      ]
    },
    {
      "cell_type": "code",
      "source": [
        "lr=LinearRegression()\n",
        "X=np.array(X_train)\n",
        "\n",
        "Y=np.array(Y_test)\n",
        "X=X.reshape(-1,1)\n",
        "Y=Y.reshape(-1,1)\n",
        "model=lr.fit(X,Y)\n",
        "\n",
        "X_=np.array(X_test)\n",
        "Y_=np.array(Y_train)\n",
        "X_=X_.reshape(-1,1)\n",
        "Y_=Y_.reshape(-1,1)\n",
        "\n",
        "\n",
        "model.score(X_,Y_)\n"
      ],
      "metadata": {
        "id": "2YvuL1kDGWZE",
        "colab": {
          "base_uri": "https://localhost:8080/"
        },
        "outputId": "6dbcbdb4-d273-4a3f-9bdf-9ca39b6905c8"
      },
      "execution_count": null,
      "outputs": [
        {
          "output_type": "execute_result",
          "data": {
            "text/plain": [
              "0.7895307724141744"
            ]
          },
          "metadata": {},
          "execution_count": 161
        }
      ]
    },
    {
      "cell_type": "code",
      "source": [
        "# lr = LinearRegression()\n",
        "# X = np.array(df['Date_encoded'])\n",
        "# X = X.reshape(-1,1)\n",
        "# Y = np.array(df['Close'])\n",
        "# Y = Y.reshape(-1,1)\n",
        "# model = lr.fit(X,Y)\n",
        "# X_test=np.array(X_test).reshape(-1,1)\n",
        "# Y_test= np.array(Y_test).reshape(-1,1)\n",
        "# model.score(X_test,Y_test)"
      ],
      "metadata": {
        "id": "3Rp-fUpdD-95"
      },
      "execution_count": null,
      "outputs": []
    },
    {
      "cell_type": "code",
      "source": [
        "# lr = LinearRegression()\n",
        "# X = np.array(hemang['Date_encoded'])\n",
        "# X = X.reshape(-1,1)\n",
        "# Y = np.array(hemang['Close'])\n",
        "# Y = Y.reshape(-1,1)\n",
        "# model = lr.fit(X,Y)\n",
        "# model.score(X_test,Y_test)"
      ],
      "metadata": {
        "id": "lZNKty0AE99y"
      },
      "execution_count": null,
      "outputs": []
    }
  ]
}